{
  "nbformat": 4,
  "nbformat_minor": 0,
  "metadata": {
    "colab": {
      "name": "Dask_Python_Dataframe_7GB.ipynb",
      "version": "0.3.2",
      "provenance": [],
      "include_colab_link": true
    },
    "kernelspec": {
      "name": "python3",
      "display_name": "Python 3"
    }
  },
  "cells": [
    {
      "cell_type": "markdown",
      "metadata": {
        "id": "view-in-github",
        "colab_type": "text"
      },
      "source": [
        "<a href=\"https://colab.research.google.com/github/Nik8x/Dask_Python_Dataframe_7GB/blob/master/Dask_Python_Dataframe_7GB.ipynb\" target=\"_parent\"><img src=\"https://colab.research.google.com/assets/colab-badge.svg\" alt=\"Open In Colab\"/></a>"
      ]
    },
    {
      "cell_type": "markdown",
      "metadata": {
        "id": "Sv_Qb-Lcx1a7",
        "colab_type": "text"
      },
      "source": [
        "*Dask provides high-level Array, Bag, and DataFrame collections that mimic NumPy, lists, and Pandas but can operate in parallel on datasets that don’t fit into main memory. Dask’s high-level collections are alternatives to NumPy and Pandas for large datasets.*"
      ]
    },
    {
      "cell_type": "markdown",
      "metadata": {
        "id": "wYPnmRHrVmnd",
        "colab_type": "text"
      },
      "source": [
        "[311 Service Requests – 7Gb+ CSV](https://data.cityofnewyork.us/Social-Services/311-Service-Requests/fvrb-kbbt)"
      ]
    },
    {
      "cell_type": "code",
      "metadata": {
        "id": "glEdSuliORsx",
        "colab_type": "code",
        "colab": {
          "base_uri": "https://localhost:8080/",
          "height": 259
        },
        "outputId": "8f6034ed-948c-41fe-e564-4347bc224a8a"
      },
      "source": [
        "%%time\n",
        "!wget \"https://data.cityofnewyork.us/api/views/fvrb-kbbt/rows.csv?accessType=DOWNLOAD\""
      ],
      "execution_count": 2,
      "outputs": [
        {
          "output_type": "stream",
          "text": [
            "--2019-08-02 22:37:00--  https://data.cityofnewyork.us/api/views/fvrb-kbbt/rows.csv?accessType=DOWNLOAD\n",
            "Resolving data.cityofnewyork.us (data.cityofnewyork.us)... 52.206.140.205, 52.206.140.199, 52.206.68.26\n",
            "Connecting to data.cityofnewyork.us (data.cityofnewyork.us)|52.206.140.205|:443... connected.\n",
            "HTTP request sent, awaiting response... 200 OK\n",
            "Length: unspecified [text/csv]\n",
            "Saving to: ‘rows.csv?accessType=DOWNLOAD’\n",
            "\n",
            "rows.csv?accessType     [    <=>             ]   7.88G  4.29MB/s    in 33m 40s \n",
            "\n",
            "Last-modified header invalid -- time-stamp ignored.\n",
            "2019-08-02 23:10:41 (3.99 MB/s) - ‘rows.csv?accessType=DOWNLOAD’ saved [8458119477]\n",
            "\n",
            "CPU times: user 22.4 s, sys: 5.49 s, total: 27.9 s\n",
            "Wall time: 33min 40s\n"
          ],
          "name": "stdout"
        }
      ]
    },
    {
      "cell_type": "code",
      "metadata": {
        "id": "E0q6umoV04Ct",
        "colab_type": "code",
        "colab": {}
      },
      "source": [
        "!rm -r sample_data/"
      ],
      "execution_count": 0,
      "outputs": []
    },
    {
      "cell_type": "code",
      "metadata": {
        "id": "sv_sS0i3Y5MJ",
        "colab_type": "code",
        "outputId": "767574b4-cfb0-4e83-89c7-96dc6882e476",
        "colab": {
          "base_uri": "https://localhost:8080/",
          "height": 121
        }
      },
      "source": [
        "%%bash\n",
        "mv rows.csv\\?accessType\\=DOWNLOAD 311.csv\n",
        "ls -la -h"
      ],
      "execution_count": 6,
      "outputs": [
        {
          "output_type": "stream",
          "text": [
            "total 7.9G\n",
            "drwxr-xr-x 1 root root 4.0K Aug  2 23:13 .\n",
            "drwxr-xr-x 1 root root 4.0K Aug  2 22:34 ..\n",
            "-rw-r--r-- 1 root root 7.9G Aug  2 23:10 311.csv\n",
            "drwxr-xr-x 1 root root 4.0K Aug  1 16:08 .config\n",
            "drwxr-xr-x 2 root root 4.0K Aug  2 22:36 .ipynb_checkpoints\n"
          ],
          "name": "stdout"
        }
      ]
    },
    {
      "cell_type": "code",
      "metadata": {
        "id": "e3dyjsLsXZ7j",
        "colab_type": "code",
        "outputId": "bcd0038c-9165-4005-861b-45ce2642e40a",
        "colab": {
          "base_uri": "https://localhost:8080/",
          "height": 69
        }
      },
      "source": [
        "%%time\n",
        "!wc -l 311.csv"
      ],
      "execution_count": 8,
      "outputs": [
        {
          "output_type": "stream",
          "text": [
            "21242044 311.csv\n",
            "CPU times: user 1.63 s, sys: 255 ms, total: 1.89 s\n",
            "Wall time: 5min 11s\n"
          ],
          "name": "stdout"
        }
      ]
    },
    {
      "cell_type": "code",
      "metadata": {
        "id": "e38SMDSTPMML",
        "colab_type": "code",
        "colab": {}
      },
      "source": [
        "!pip install dask[complete]\n",
        "import dask.dataframe as dd\n",
        "\n",
        "import warnings\n",
        "warnings.filterwarnings('ignore')\n",
        "\n",
        "import numpy as np\n",
        "import pandas as pd\n",
        "\n",
        "import matplotlib.pyplot as plt\n",
        "%matplotlib inline\n",
        "import seaborn as sns\n",
        "sns.set(style = \"whitegrid\")\n",
        "sns.set(color_codes = True)\n",
        "plt.style.use('ggplot')"
      ],
      "execution_count": 0,
      "outputs": []
    },
    {
      "cell_type": "code",
      "metadata": {
        "id": "6lq2oPtoVgZd",
        "colab_type": "code",
        "colab": {}
      },
      "source": [
        "filename = '311.csv'\n",
        "df = dd.read_csv(filename, dtype='str')\n",
        "# the data isn’t read into memory. we’ve just set up the dataframe to be ready to do some \n",
        "# compute functions on the data in the csv file using familiar functions from pandas."
      ],
      "execution_count": 0,
      "outputs": []
    },
    {
      "cell_type": "code",
      "metadata": {
        "id": "2O16th3_V5-A",
        "colab_type": "code",
        "outputId": "3f334655-e55a-47ad-ac3a-de36006e12c0",
        "colab": {
          "base_uri": "https://localhost:8080/",
          "height": 495
        }
      },
      "source": [
        "df.head()"
      ],
      "execution_count": 11,
      "outputs": [
        {
          "output_type": "execute_result",
          "data": {
            "text/html": [
              "<div>\n",
              "<style scoped>\n",
              "    .dataframe tbody tr th:only-of-type {\n",
              "        vertical-align: middle;\n",
              "    }\n",
              "\n",
              "    .dataframe tbody tr th {\n",
              "        vertical-align: top;\n",
              "    }\n",
              "\n",
              "    .dataframe thead th {\n",
              "        text-align: right;\n",
              "    }\n",
              "</style>\n",
              "<table border=\"1\" class=\"dataframe\">\n",
              "  <thead>\n",
              "    <tr style=\"text-align: right;\">\n",
              "      <th></th>\n",
              "      <th>Unique Key</th>\n",
              "      <th>Created Date</th>\n",
              "      <th>Closed Date</th>\n",
              "      <th>Agency</th>\n",
              "      <th>Agency Name</th>\n",
              "      <th>Complaint Type</th>\n",
              "      <th>Descriptor</th>\n",
              "      <th>Location Type</th>\n",
              "      <th>Incident Zip</th>\n",
              "      <th>Incident Address</th>\n",
              "      <th>Street Name</th>\n",
              "      <th>Cross Street 1</th>\n",
              "      <th>Cross Street 2</th>\n",
              "      <th>Intersection Street 1</th>\n",
              "      <th>Intersection Street 2</th>\n",
              "      <th>Address Type</th>\n",
              "      <th>City</th>\n",
              "      <th>Landmark</th>\n",
              "      <th>Facility Type</th>\n",
              "      <th>Status</th>\n",
              "      <th>Due Date</th>\n",
              "      <th>Resolution Action Updated Date</th>\n",
              "      <th>Community Board</th>\n",
              "      <th>Borough</th>\n",
              "      <th>X Coordinate (State Plane)</th>\n",
              "      <th>Y Coordinate (State Plane)</th>\n",
              "      <th>Park Facility Name</th>\n",
              "      <th>Park Borough</th>\n",
              "      <th>Vehicle Type</th>\n",
              "      <th>Taxi Company Borough</th>\n",
              "      <th>Taxi Pick Up Location</th>\n",
              "      <th>Bridge Highway Name</th>\n",
              "      <th>Bridge Highway Direction</th>\n",
              "      <th>Road Ramp</th>\n",
              "      <th>Bridge Highway Segment</th>\n",
              "      <th>Latitude</th>\n",
              "      <th>Longitude</th>\n",
              "      <th>Location</th>\n",
              "    </tr>\n",
              "  </thead>\n",
              "  <tbody>\n",
              "    <tr>\n",
              "      <th>0</th>\n",
              "      <td>31182049</td>\n",
              "      <td>07/28/2015 08:16:00 AM</td>\n",
              "      <td>07/31/2015 12:50:00 PM</td>\n",
              "      <td>DEP</td>\n",
              "      <td>Department of Environmental Protection</td>\n",
              "      <td>Water System</td>\n",
              "      <td>High Water Pressure (WHP)</td>\n",
              "      <td>NaN</td>\n",
              "      <td>11218</td>\n",
              "      <td>161 PROSPECT PARK SOUTHWEST</td>\n",
              "      <td>PROSPECT PARK SOUTHWEST</td>\n",
              "      <td>VANDERBILT ST</td>\n",
              "      <td>REEVE PL</td>\n",
              "      <td>NaN</td>\n",
              "      <td>NaN</td>\n",
              "      <td>ADDRESS</td>\n",
              "      <td>BROOKLYN</td>\n",
              "      <td>NaN</td>\n",
              "      <td>NaN</td>\n",
              "      <td>Closed</td>\n",
              "      <td>NaN</td>\n",
              "      <td>07/31/2015 12:50:00 PM</td>\n",
              "      <td>07 BROOKLYN</td>\n",
              "      <td>BROOKLYN</td>\n",
              "      <td>991674</td>\n",
              "      <td>177743</td>\n",
              "      <td>Unspecified</td>\n",
              "      <td>BROOKLYN</td>\n",
              "      <td>NaN</td>\n",
              "      <td>NaN</td>\n",
              "      <td>NaN</td>\n",
              "      <td>NaN</td>\n",
              "      <td>NaN</td>\n",
              "      <td>NaN</td>\n",
              "      <td>NaN</td>\n",
              "      <td>40.6545370494088</td>\n",
              "      <td>-73.97324394564914</td>\n",
              "      <td>(40.6545370494088, -73.97324394564914)</td>\n",
              "    </tr>\n",
              "    <tr>\n",
              "      <th>1</th>\n",
              "      <td>31182050</td>\n",
              "      <td>07/27/2015 07:59:00 PM</td>\n",
              "      <td>07/30/2015 12:00:00 PM</td>\n",
              "      <td>DSNY</td>\n",
              "      <td>BCC - Brooklyn South</td>\n",
              "      <td>Sanitation Condition</td>\n",
              "      <td>12 Dead Animals</td>\n",
              "      <td>Sidewalk</td>\n",
              "      <td>11230</td>\n",
              "      <td>1480 EAST   12 STREET</td>\n",
              "      <td>EAST   12 STREET</td>\n",
              "      <td>AVENUE N</td>\n",
              "      <td>AVENUE O</td>\n",
              "      <td>NaN</td>\n",
              "      <td>NaN</td>\n",
              "      <td>ADDRESS</td>\n",
              "      <td>BROOKLYN</td>\n",
              "      <td>NaN</td>\n",
              "      <td>DSNY Garage</td>\n",
              "      <td>Closed</td>\n",
              "      <td>NaN</td>\n",
              "      <td>07/30/2015 12:00:00 PM</td>\n",
              "      <td>14 BROOKLYN</td>\n",
              "      <td>BROOKLYN</td>\n",
              "      <td>994796</td>\n",
              "      <td>162766</td>\n",
              "      <td>Unspecified</td>\n",
              "      <td>BROOKLYN</td>\n",
              "      <td>NaN</td>\n",
              "      <td>NaN</td>\n",
              "      <td>NaN</td>\n",
              "      <td>NaN</td>\n",
              "      <td>NaN</td>\n",
              "      <td>NaN</td>\n",
              "      <td>NaN</td>\n",
              "      <td>40.613425200105816</td>\n",
              "      <td>-73.96201568213259</td>\n",
              "      <td>(40.613425200105816, -73.96201568213259)</td>\n",
              "    </tr>\n",
              "    <tr>\n",
              "      <th>2</th>\n",
              "      <td>31182053</td>\n",
              "      <td>07/28/2015 12:00:00 AM</td>\n",
              "      <td>08/05/2015 12:00:00 AM</td>\n",
              "      <td>DOHMH</td>\n",
              "      <td>Department of Health and Mental Hygiene</td>\n",
              "      <td>Rodent</td>\n",
              "      <td>Rat Sighting</td>\n",
              "      <td>Other (Explain Below)</td>\n",
              "      <td>10075</td>\n",
              "      <td>NaN</td>\n",
              "      <td>NaN</td>\n",
              "      <td>NaN</td>\n",
              "      <td>NaN</td>\n",
              "      <td>EAST 80 STREET</td>\n",
              "      <td>2 AVENUE</td>\n",
              "      <td>INTERSECTION</td>\n",
              "      <td>NEW YORK</td>\n",
              "      <td>NaN</td>\n",
              "      <td>NaN</td>\n",
              "      <td>Closed</td>\n",
              "      <td>08/27/2015 11:44:33 AM</td>\n",
              "      <td>08/05/2015 12:00:00 AM</td>\n",
              "      <td>08 MANHATTAN</td>\n",
              "      <td>MANHATTAN</td>\n",
              "      <td>996836</td>\n",
              "      <td>221277</td>\n",
              "      <td>Unspecified</td>\n",
              "      <td>MANHATTAN</td>\n",
              "      <td>NaN</td>\n",
              "      <td>NaN</td>\n",
              "      <td>NaN</td>\n",
              "      <td>NaN</td>\n",
              "      <td>NaN</td>\n",
              "      <td>NaN</td>\n",
              "      <td>NaN</td>\n",
              "      <td>40.77402161430348</td>\n",
              "      <td>-73.95455873895823</td>\n",
              "      <td>(40.77402161430348, -73.95455873895823)</td>\n",
              "    </tr>\n",
              "    <tr>\n",
              "      <th>3</th>\n",
              "      <td>31182054</td>\n",
              "      <td>07/28/2015 07:36:00 PM</td>\n",
              "      <td>08/04/2015 03:55:00 AM</td>\n",
              "      <td>DEP</td>\n",
              "      <td>Department of Environmental Protection</td>\n",
              "      <td>Water System</td>\n",
              "      <td>Hydrant Knocked Over/Missing (WC)</td>\n",
              "      <td>NaN</td>\n",
              "      <td>11219</td>\n",
              "      <td>4714 13 AVENUE</td>\n",
              "      <td>13 AVENUE</td>\n",
              "      <td>47 ST</td>\n",
              "      <td>48 ST</td>\n",
              "      <td>NaN</td>\n",
              "      <td>NaN</td>\n",
              "      <td>ADDRESS</td>\n",
              "      <td>BROOKLYN</td>\n",
              "      <td>NaN</td>\n",
              "      <td>NaN</td>\n",
              "      <td>Closed</td>\n",
              "      <td>NaN</td>\n",
              "      <td>08/04/2015 03:55:00 AM</td>\n",
              "      <td>12 BROOKLYN</td>\n",
              "      <td>BROOKLYN</td>\n",
              "      <td>986717</td>\n",
              "      <td>170993</td>\n",
              "      <td>Unspecified</td>\n",
              "      <td>BROOKLYN</td>\n",
              "      <td>NaN</td>\n",
              "      <td>NaN</td>\n",
              "      <td>NaN</td>\n",
              "      <td>NaN</td>\n",
              "      <td>NaN</td>\n",
              "      <td>NaN</td>\n",
              "      <td>NaN</td>\n",
              "      <td>40.63601252362889</td>\n",
              "      <td>-73.99111141407735</td>\n",
              "      <td>(40.63601252362889, -73.99111141407735)</td>\n",
              "    </tr>\n",
              "    <tr>\n",
              "      <th>4</th>\n",
              "      <td>31182055</td>\n",
              "      <td>07/28/2015 11:40:42 PM</td>\n",
              "      <td>07/29/2015 02:13:48 AM</td>\n",
              "      <td>NYPD</td>\n",
              "      <td>New York City Police Department</td>\n",
              "      <td>Noise - Street/Sidewalk</td>\n",
              "      <td>Loud Music/Party</td>\n",
              "      <td>Street/Sidewalk</td>\n",
              "      <td>10033</td>\n",
              "      <td>556 WEST 180 STREET</td>\n",
              "      <td>WEST 180 STREET</td>\n",
              "      <td>AUDUBON AVENUE</td>\n",
              "      <td>ST NICHOLAS AVENUE</td>\n",
              "      <td>NaN</td>\n",
              "      <td>NaN</td>\n",
              "      <td>ADDRESS</td>\n",
              "      <td>NEW YORK</td>\n",
              "      <td>NaN</td>\n",
              "      <td>Precinct</td>\n",
              "      <td>Closed</td>\n",
              "      <td>07/29/2015 07:40:42 AM</td>\n",
              "      <td>07/29/2015 02:13:48 AM</td>\n",
              "      <td>12 MANHATTAN</td>\n",
              "      <td>MANHATTAN</td>\n",
              "      <td>1002666</td>\n",
              "      <td>248335</td>\n",
              "      <td>Unspecified</td>\n",
              "      <td>MANHATTAN</td>\n",
              "      <td>NaN</td>\n",
              "      <td>NaN</td>\n",
              "      <td>NaN</td>\n",
              "      <td>NaN</td>\n",
              "      <td>NaN</td>\n",
              "      <td>NaN</td>\n",
              "      <td>NaN</td>\n",
              "      <td>40.84827805311061</td>\n",
              "      <td>-73.93343552336337</td>\n",
              "      <td>(40.84827805311061, -73.93343552336337)</td>\n",
              "    </tr>\n",
              "  </tbody>\n",
              "</table>\n",
              "</div>"
            ],
            "text/plain": [
              "  Unique Key  ...                                  Location\n",
              "0   31182049  ...    (40.6545370494088, -73.97324394564914)\n",
              "1   31182050  ...  (40.613425200105816, -73.96201568213259)\n",
              "2   31182053  ...   (40.77402161430348, -73.95455873895823)\n",
              "3   31182054  ...   (40.63601252362889, -73.99111141407735)\n",
              "4   31182055  ...   (40.84827805311061, -73.93343552336337)\n",
              "\n",
              "[5 rows x 38 columns]"
            ]
          },
          "metadata": {
            "tags": []
          },
          "execution_count": 11
        }
      ]
    },
    {
      "cell_type": "code",
      "metadata": {
        "id": "BanB49Ms3SlA",
        "colab_type": "code",
        "outputId": "d7fe91b2-4ee2-4e28-eba8-a5d9af0bcc5d",
        "colab": {
          "base_uri": "https://localhost:8080/",
          "height": 224
        }
      },
      "source": [
        "df.columns"
      ],
      "execution_count": 12,
      "outputs": [
        {
          "output_type": "execute_result",
          "data": {
            "text/plain": [
              "Index(['Unique Key', 'Created Date', 'Closed Date', 'Agency', 'Agency Name',\n",
              "       'Complaint Type', 'Descriptor', 'Location Type', 'Incident Zip',\n",
              "       'Incident Address', 'Street Name', 'Cross Street 1', 'Cross Street 2',\n",
              "       'Intersection Street 1', 'Intersection Street 2', 'Address Type',\n",
              "       'City', 'Landmark', 'Facility Type', 'Status', 'Due Date',\n",
              "       'Resolution Action Updated Date', 'Community Board', 'Borough',\n",
              "       'X Coordinate (State Plane)', 'Y Coordinate (State Plane)',\n",
              "       'Park Facility Name', 'Park Borough', 'Vehicle Type',\n",
              "       'Taxi Company Borough', 'Taxi Pick Up Location', 'Bridge Highway Name',\n",
              "       'Bridge Highway Direction', 'Road Ramp', 'Bridge Highway Segment',\n",
              "       'Latitude', 'Longitude', 'Location'],\n",
              "      dtype='object')"
            ]
          },
          "metadata": {
            "tags": []
          },
          "execution_count": 12
        }
      ]
    },
    {
      "cell_type": "code",
      "metadata": {
        "id": "fdAK_bagWHiO",
        "colab_type": "code",
        "outputId": "bfd03d22-d10d-4bcc-ac52-2de28b24d441",
        "colab": {
          "base_uri": "https://localhost:8080/",
          "height": 52
        }
      },
      "source": [
        "# We see that there’s some spaces in the column names. Let’s remove those spaces to make things easier to work with.\n",
        "%%time\n",
        "df = df.rename(columns={c: c.replace(' ', '') for c in df.columns})"
      ],
      "execution_count": 13,
      "outputs": [
        {
          "output_type": "stream",
          "text": [
            "CPU times: user 24.1 ms, sys: 1.71 ms, total: 25.8 ms\n",
            "Wall time: 28.2 ms\n"
          ],
          "name": "stdout"
        }
      ]
    },
    {
      "cell_type": "code",
      "metadata": {
        "id": "2M2iaP9P3O31",
        "colab_type": "code",
        "outputId": "a281b82a-8f8d-4a75-9c41-2105795d79b4",
        "colab": {
          "base_uri": "https://localhost:8080/",
          "height": 69
        }
      },
      "source": [
        "%%time\n",
        "df.shape[0].compute(), df.shape[1]"
      ],
      "execution_count": 17,
      "outputs": [
        {
          "output_type": "stream",
          "text": [
            "CPU times: user 4min 48s, sys: 9.73 s, total: 4min 57s\n",
            "Wall time: 5min 11s\n"
          ],
          "name": "stdout"
        },
        {
          "output_type": "execute_result",
          "data": {
            "text/plain": [
              "(21242043, 38)"
            ]
          },
          "metadata": {
            "tags": []
          },
          "execution_count": 17
        }
      ]
    },
    {
      "cell_type": "code",
      "metadata": {
        "id": "o7lCmIdm3JTT",
        "colab_type": "code",
        "outputId": "d60e9ae6-6e8d-4668-b8f8-ea5b954950dd",
        "colab": {
          "base_uri": "https://localhost:8080/",
          "height": 121
        }
      },
      "source": [
        "%%time \n",
        "df.info(memory_usage = 'deep')"
      ],
      "execution_count": 24,
      "outputs": [
        {
          "output_type": "stream",
          "text": [
            "<class 'dask.dataframe.core.DataFrame'>\n",
            "Columns: 38 entries, UniqueKey to Location\n",
            "dtypes: object(38)\n",
            "memory usage: 6.0 GB\n",
            "CPU times: user 4min 45s, sys: 9.1 s, total: 4min 54s\n",
            "Wall time: 5min 12s\n"
          ],
          "name": "stdout"
        }
      ]
    },
    {
      "cell_type": "code",
      "metadata": {
        "id": "2vIyfAcP3aDJ",
        "colab_type": "code",
        "colab": {
          "base_uri": "https://localhost:8080/",
          "height": 52
        },
        "outputId": "9cb3466d-f945-460d-f645-935c8245123b"
      },
      "source": [
        "%time dfna = df.isna().sum().compute()"
      ],
      "execution_count": 26,
      "outputs": [
        {
          "output_type": "stream",
          "text": [
            "CPU times: user 5min 43s, sys: 9.45 s, total: 5min 52s\n",
            "Wall time: 5min 38s\n"
          ],
          "name": "stdout"
        }
      ]
    },
    {
      "cell_type": "code",
      "metadata": {
        "id": "UiV2eSF83Zd_",
        "colab_type": "code",
        "colab": {
          "base_uri": "https://localhost:8080/",
          "height": 691
        },
        "outputId": "899d7549-0713-40eb-ad76-6256a3a5daf1"
      },
      "source": [
        "dfna"
      ],
      "execution_count": 31,
      "outputs": [
        {
          "output_type": "execute_result",
          "data": {
            "text/plain": [
              "UniqueKey                             0\n",
              "CreatedDate                           0\n",
              "ClosedDate                       619444\n",
              "Agency                                0\n",
              "AgencyName                            0\n",
              "ComplaintType                         0\n",
              "Descriptor                       231006\n",
              "LocationType                    5264404\n",
              "IncidentZip                     1283479\n",
              "IncidentAddress                 4125915\n",
              "StreetName                      4127278\n",
              "CrossStreet1                    7083419\n",
              "CrossStreet2                    7161638\n",
              "IntersectionStreet1            17890309\n",
              "IntersectionStreet2            17897853\n",
              "AddressType                      974125\n",
              "City                            1290172\n",
              "Landmark                       21123986\n",
              "FacilityType                   15756465\n",
              "Status                                0\n",
              "DueDate                        12716534\n",
              "ResolutionActionUpdatedDate      371065\n",
              "CommunityBoard                        0\n",
              "Borough                               0\n",
              "XCoordinate(StatePlane)         1984867\n",
              "YCoordinate(StatePlane)         1984867\n",
              "ParkFacilityName                     67\n",
              "ParkBorough                           0\n",
              "VehicleType                    21234226\n",
              "TaxiCompanyBorough             21223823\n",
              "TaxiPickUpLocation             21085204\n",
              "BridgeHighwayName              21190181\n",
              "BridgeHighwayDirection         21189962\n",
              "RoadRamp                       21190408\n",
              "BridgeHighwaySegment           21186675\n",
              "Latitude                        1984867\n",
              "Longitude                       1984867\n",
              "Location                        1984867\n",
              "dtype: int64"
            ]
          },
          "metadata": {
            "tags": []
          },
          "execution_count": 31
        }
      ]
    },
    {
      "cell_type": "code",
      "metadata": {
        "id": "30B23dz22XU3",
        "colab_type": "code",
        "colab": {
          "base_uri": "https://localhost:8080/",
          "height": 442
        },
        "outputId": "01f0781e-2c7d-4e14-e450-a3266410576e"
      },
      "source": [
        "plt.figure(figsize = (10, 4))\n",
        "dfna.plot(kind='bar')\n",
        "plt.title('Missing columns in our data')\n",
        "plt.ylabel('Number of missing rows(in millions)')\n",
        "plt.xticks(rotation = -90)\n",
        "plt.show()"
      ],
      "execution_count": 42,
      "outputs": [
        {
          "output_type": "display_data",
          "data": {
            "image/png": "[encoded data removed]",
            "text/plain": [
              "<Figure size 720x288 with 1 Axes>"
            ]
          },
          "metadata": {
            "tags": []
          }
        }
      ]
    },
    {
      "cell_type": "code",
      "metadata": {
        "id": "iGPFHvMfc6Jr",
        "colab_type": "code",
        "colab": {
          "base_uri": "https://localhost:8080/",
          "height": 207
        },
        "outputId": "249e241d-35a6-4970-bd5e-b0cb7a78702a"
      },
      "source": [
        "%whos"
      ],
      "execution_count": 34,
      "outputs": [
        {
          "output_type": "stream",
          "text": [
            "Variable   Type         Data/Info\n",
            "---------------------------------\n",
            "dd         module       <module 'dask.dataframe' <...>k/dataframe/__init__.py'>\n",
            "df         DataFrame    Dask DataFrame Structure:<...>k Name: rename, 532 tasks\n",
            "dfna       Series       UniqueKey                <...>    1984867\\ndtype: int64\n",
            "filename   str          311.csv\n",
            "np         module       <module 'numpy' from '/us<...>kages/numpy/__init__.py'>\n",
            "pd         module       <module 'pandas' from '/u<...>ages/pandas/__init__.py'>\n",
            "plt        module       <module 'matplotlib.pyplo<...>es/matplotlib/pyplot.py'>\n",
            "sns        module       <module 'seaborn' from '/<...>ges/seaborn/__init__.py'>\n",
            "warnings   module       <module 'warnings' from '<...>b/python3.6/warnings.py'>\n"
          ],
          "name": "stdout"
        }
      ]
    },
    {
      "cell_type": "code",
      "metadata": {
        "id": "P1UPalc25z9o",
        "colab_type": "code",
        "colab": {
          "base_uri": "https://localhost:8080/",
          "height": 52
        },
        "outputId": "0d1765c3-aa4e-44a3-a332-617472806a05"
      },
      "source": [
        "%time dfstatusvc = df.Status.value_counts().compute()"
      ],
      "execution_count": 51,
      "outputs": [
        {
          "output_type": "stream",
          "text": [
            "CPU times: user 4min 57s, sys: 13 s, total: 5min 10s\n",
            "Wall time: 5min 26s\n"
          ],
          "name": "stdout"
        }
      ]
    },
    {
      "cell_type": "code",
      "metadata": {
        "id": "oKb0g2qL5AKd",
        "colab_type": "code",
        "colab": {
          "base_uri": "https://localhost:8080/",
          "height": 521
        },
        "outputId": "81f3482f-ef43-4cb7-a508-1bc57e7fc78b"
      },
      "source": [
        "# Have a look at the status of tickets\n",
        "dfstatusvc.plot(kind = 'bar', alpha = 0.6, figsize = (7, 7))\n",
        "plt.show()"
      ],
      "execution_count": 52,
      "outputs": [
        {
          "output_type": "display_data",
          "data": {
            "image/png": "[encoded data removed]",
            "text/plain": [
              "<Figure size 504x504 with 1 Axes>"
            ]
          },
          "metadata": {
            "tags": []
          }
        }
      ]
    },
    {
      "cell_type": "code",
      "metadata": {
        "id": "U5XWqFB56Aug",
        "colab_type": "code",
        "colab": {}
      },
      "source": [
        ""
      ],
      "execution_count": 0,
      "outputs": []
    }
  ]
}