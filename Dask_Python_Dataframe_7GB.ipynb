{
  "nbformat": 4,
  "nbformat_minor": 0,
  "metadata": {
    "colab": {
      "name": "Dask_Python_Dataframe_7GB.ipynb",
      "version": "0.3.2",
      "provenance": [],
      "include_colab_link": true
    },
    "kernelspec": {
      "name": "python3",
      "display_name": "Python 3"
    }
  },
  "cells": [
    {
      "cell_type": "markdown",
      "metadata": {
        "id": "view-in-github",
        "colab_type": "text"
      },
      "source": [
        "<a href=\"https://colab.research.google.com/github/Nik8x/Dask_Python_Dataframe_7GB/blob/master/Dask_Python_Dataframe_7GB.ipynb\" target=\"_parent\"><img src=\"https://colab.research.google.com/assets/colab-badge.svg\" alt=\"Open In Colab\"/></a>"
      ]
    },
    {
      "cell_type": "markdown",
      "metadata": {
        "id": "Sv_Qb-Lcx1a7",
        "colab_type": "text"
      },
      "source": [
        "*Dask provides high-level Array, Bag, and DataFrame collections that mimic NumPy, lists, and Pandas but can operate in parallel on datasets that don’t fit into main memory. Dask’s high-level collections are alternatives to NumPy and Pandas for large datasets.*"
      ]
    },
    {
      "cell_type": "markdown",
      "metadata": {
        "id": "wYPnmRHrVmnd",
        "colab_type": "text"
      },
      "source": [
        "[311 Service Requests – 7Gb+ CSV](https://data.cityofnewyork.us/Social-Services/311-Service-Requests/fvrb-kbbt)\n",
        "\n",
        "[Dask – A better way to work with large CSV files in Python](https://pythondata.com/dask-large-csv-python/)"
      ]
    },
    {
      "cell_type": "code",
      "metadata": {
        "id": "glEdSuliORsx",
        "colab_type": "code",
        "colab": {
          "base_uri": "https://localhost:8080/",
          "height": 167
        },
        "outputId": "0a0b81c8-b4c9-4618-8fef-0b0b9dce1ee1"
      },
      "source": [
        "!wget \"https://data.cityofnewyork.us/api/views/fvrb-kbbt/rows.csv?accessType=DOWNLOAD\""
      ],
      "execution_count": 0,
      "outputs": [
        {
          "output_type": "stream",
          "text": [
            "--2019-08-02 14:29:40--  https://data.cityofnewyork.us/api/views/fvrb-kbbt/rows.csv?accessType=DOWNLOAD\n",
            "Resolving data.cityofnewyork.us (data.cityofnewyork.us)... 52.206.140.205, 52.206.140.199, 52.206.68.26\n",
            "Connecting to data.cityofnewyork.us (data.cityofnewyork.us)|52.206.140.205|:443... connected.\n",
            "HTTP request sent, awaiting response... 200 OK\n",
            "Length: unspecified [text/csv]\n",
            "Saving to: ‘rows.csv?accessType=DOWNLOAD’\n",
            "\n",
            "e=DOWNLOAD              [             <=>    ]   7.73G  4.03MB/s               "
          ],
          "name": "stdout"
        }
      ]
    },
    {
      "cell_type": "code",
      "metadata": {
        "id": "E0q6umoV04Ct",
        "colab_type": "code",
        "colab": {}
      },
      "source": [
        "!rm -r sample_data"
      ],
      "execution_count": 0,
      "outputs": []
    },
    {
      "cell_type": "code",
      "metadata": {
        "id": "sv_sS0i3Y5MJ",
        "colab_type": "code",
        "colab": {
          "base_uri": "https://localhost:8080/",
          "height": 34
        },
        "outputId": "c2514ac4-359a-4415-95f8-c9bf0e8dc30c"
      },
      "source": [
        "%%bash\n",
        "mv rows.csv\\?accessType\\=DOWNLOAD 311.csv\n",
        "ls -la"
      ],
      "execution_count": 7,
      "outputs": [
        {
          "output_type": "stream",
          "text": [
            "311.csv  sample_data\n"
          ],
          "name": "stdout"
        }
      ]
    },
    {
      "cell_type": "code",
      "metadata": {
        "id": "e3dyjsLsXZ7j",
        "colab_type": "code",
        "colab": {
          "base_uri": "https://localhost:8080/",
          "height": 69
        },
        "outputId": "af80739e-ba46-4b3a-a541-064de337e7de"
      },
      "source": [
        "%%time\n",
        "!wc -lh 311.csv"
      ],
      "execution_count": 8,
      "outputs": [
        {
          "output_type": "stream",
          "text": [
            "21236571 311.csv\n",
            "CPU times: user 1.14 s, sys: 194 ms, total: 1.33 s\n",
            "Wall time: 4min 1s\n"
          ],
          "name": "stdout"
        }
      ]
    },
    {
      "cell_type": "code",
      "metadata": {
        "id": "e38SMDSTPMML",
        "colab_type": "code",
        "colab": {}
      },
      "source": [
        "pip install dask[complete]"
      ],
      "execution_count": 0,
      "outputs": []
    },
    {
      "cell_type": "code",
      "metadata": {
        "id": "6lq2oPtoVgZd",
        "colab_type": "code",
        "colab": {}
      },
      "source": [
        "import dask.dataframe as dd\n",
        "\n",
        "filename = '311.csv'\n",
        "df = dd.read_csv(filename, dtype='str')\n",
        "# the data isn’t read into memory. we’ve just set up the dataframe to be ready to do some \n",
        "# compute functions on the data in the csv file using familiar functions from pandas."
      ],
      "execution_count": 0,
      "outputs": []
    },
    {
      "cell_type": "code",
      "metadata": {
        "id": "2O16th3_V5-A",
        "colab_type": "code",
        "colab": {
          "base_uri": "https://localhost:8080/",
          "height": 249
        },
        "outputId": "a6bab082-4ff8-4698-f081-3a883d5ee724"
      },
      "source": [
        "df.head(2)"
      ],
      "execution_count": 11,
      "outputs": [
        {
          "output_type": "execute_result",
          "data": {
            "text/html": [
              "<div>\n",
              "<style scoped>\n",
              "    .dataframe tbody tr th:only-of-type {\n",
              "        vertical-align: middle;\n",
              "    }\n",
              "\n",
              "    .dataframe tbody tr th {\n",
              "        vertical-align: top;\n",
              "    }\n",
              "\n",
              "    .dataframe thead th {\n",
              "        text-align: right;\n",
              "    }\n",
              "</style>\n",
              "<table border=\"1\" class=\"dataframe\">\n",
              "  <thead>\n",
              "    <tr style=\"text-align: right;\">\n",
              "      <th></th>\n",
              "      <th>Unique Key</th>\n",
              "      <th>Created Date</th>\n",
              "      <th>Closed Date</th>\n",
              "      <th>Agency</th>\n",
              "      <th>Agency Name</th>\n",
              "      <th>Complaint Type</th>\n",
              "      <th>Descriptor</th>\n",
              "      <th>Location Type</th>\n",
              "      <th>Incident Zip</th>\n",
              "      <th>Incident Address</th>\n",
              "      <th>Street Name</th>\n",
              "      <th>Cross Street 1</th>\n",
              "      <th>Cross Street 2</th>\n",
              "      <th>Intersection Street 1</th>\n",
              "      <th>Intersection Street 2</th>\n",
              "      <th>Address Type</th>\n",
              "      <th>City</th>\n",
              "      <th>Landmark</th>\n",
              "      <th>Facility Type</th>\n",
              "      <th>Status</th>\n",
              "      <th>Due Date</th>\n",
              "      <th>Resolution Action Updated Date</th>\n",
              "      <th>Community Board</th>\n",
              "      <th>Borough</th>\n",
              "      <th>X Coordinate (State Plane)</th>\n",
              "      <th>Y Coordinate (State Plane)</th>\n",
              "      <th>Park Facility Name</th>\n",
              "      <th>Park Borough</th>\n",
              "      <th>Vehicle Type</th>\n",
              "      <th>Taxi Company Borough</th>\n",
              "      <th>Taxi Pick Up Location</th>\n",
              "      <th>Bridge Highway Name</th>\n",
              "      <th>Bridge Highway Direction</th>\n",
              "      <th>Road Ramp</th>\n",
              "      <th>Bridge Highway Segment</th>\n",
              "      <th>Latitude</th>\n",
              "      <th>Longitude</th>\n",
              "      <th>Location</th>\n",
              "    </tr>\n",
              "  </thead>\n",
              "  <tbody>\n",
              "    <tr>\n",
              "      <th>0</th>\n",
              "      <td>39679393</td>\n",
              "      <td>07/08/2018 01:43:22 PM</td>\n",
              "      <td>NaN</td>\n",
              "      <td>DOT</td>\n",
              "      <td>Department of Transportation</td>\n",
              "      <td>Street Condition</td>\n",
              "      <td>Wear &amp; Tear</td>\n",
              "      <td>NaN</td>\n",
              "      <td>11208</td>\n",
              "      <td>265 EUCLID AVENUE</td>\n",
              "      <td>EUCLID AVENUE</td>\n",
              "      <td>ATLANTIC AVENUE</td>\n",
              "      <td>FULTON STREET</td>\n",
              "      <td>NaN</td>\n",
              "      <td>NaN</td>\n",
              "      <td>ADDRESS</td>\n",
              "      <td>BROOKLYN</td>\n",
              "      <td>NaN</td>\n",
              "      <td>NaN</td>\n",
              "      <td>Pending</td>\n",
              "      <td>NaN</td>\n",
              "      <td>07/10/2018 09:00:00 AM</td>\n",
              "      <td>05 BROOKLYN</td>\n",
              "      <td>BROOKLYN</td>\n",
              "      <td>1019245</td>\n",
              "      <td>187789</td>\n",
              "      <td>Unspecified</td>\n",
              "      <td>BROOKLYN</td>\n",
              "      <td>NaN</td>\n",
              "      <td>NaN</td>\n",
              "      <td>NaN</td>\n",
              "      <td>NaN</td>\n",
              "      <td>NaN</td>\n",
              "      <td>NaN</td>\n",
              "      <td>NaN</td>\n",
              "      <td>40.68204501462856</td>\n",
              "      <td>-73.87382614938845</td>\n",
              "      <td>(40.68204501462856, -73.87382614938845)</td>\n",
              "    </tr>\n",
              "    <tr>\n",
              "      <th>1</th>\n",
              "      <td>40983172</td>\n",
              "      <td>11/19/2018 03:00:16 PM</td>\n",
              "      <td>11/19/2018 03:00:28 PM</td>\n",
              "      <td>TLC</td>\n",
              "      <td>Taxi and Limousine Commission</td>\n",
              "      <td>Taxi Report</td>\n",
              "      <td>Driver Report</td>\n",
              "      <td>NaN</td>\n",
              "      <td>11249</td>\n",
              "      <td>237 KENT AVENUE</td>\n",
              "      <td>KENT AVENUE</td>\n",
              "      <td>NORTH 1 STREET</td>\n",
              "      <td>GRAND STREET</td>\n",
              "      <td>NaN</td>\n",
              "      <td>NaN</td>\n",
              "      <td>ADDRESS</td>\n",
              "      <td>BROOKLYN</td>\n",
              "      <td>NaN</td>\n",
              "      <td>NaN</td>\n",
              "      <td>Closed</td>\n",
              "      <td>NaN</td>\n",
              "      <td>11/19/2018 03:00:28 PM</td>\n",
              "      <td>01 BROOKLYN</td>\n",
              "      <td>BROOKLYN</td>\n",
              "      <td>993766</td>\n",
              "      <td>200359</td>\n",
              "      <td>Unspecified</td>\n",
              "      <td>BROOKLYN</td>\n",
              "      <td>NaN</td>\n",
              "      <td>NaN</td>\n",
              "      <td>JFK Airport</td>\n",
              "      <td>NaN</td>\n",
              "      <td>NaN</td>\n",
              "      <td>NaN</td>\n",
              "      <td>NaN</td>\n",
              "      <td>40.716610788840434</td>\n",
              "      <td>-73.96567244879084</td>\n",
              "      <td>(40.716610788840434, -73.96567244879084)</td>\n",
              "    </tr>\n",
              "  </tbody>\n",
              "</table>\n",
              "</div>"
            ],
            "text/plain": [
              "  Unique Key  ...                                  Location\n",
              "0   39679393  ...   (40.68204501462856, -73.87382614938845)\n",
              "1   40983172  ...  (40.716610788840434, -73.96567244879084)\n",
              "\n",
              "[2 rows x 38 columns]"
            ]
          },
          "metadata": {
            "tags": []
          },
          "execution_count": 11
        }
      ]
    },
    {
      "cell_type": "code",
      "metadata": {
        "id": "fdAK_bagWHiO",
        "colab_type": "code",
        "colab": {}
      },
      "source": [
        "# We see that there’s some spaces in the column names. Let’s remove those spaces to make things easier to work with.\n",
        "%%time\n",
        "df = df.rename(columns={c: c.replace(' ', '') for c in df.columns})"
      ],
      "execution_count": 0,
      "outputs": []
    },
    {
      "cell_type": "code",
      "metadata": {
        "id": "OuCjOCfUWNE0",
        "colab_type": "code",
        "colab": {}
      },
      "source": [
        "# create a new dataframe with only 'RADIATOR' service calls\n",
        "%%time\n",
        "radiator_df = df[df.Descriptor == 'RADIATOR']"
      ],
      "execution_count": 0,
      "outputs": []
    },
    {
      "cell_type": "code",
      "metadata": {
        "id": "WRTWfKYfWS3y",
        "colab_type": "code",
        "colab": {
          "base_uri": "https://localhost:8080/",
          "height": 34
        },
        "outputId": "a7320701-4a23-4b04-a8c5-26c1a7b1b113"
      },
      "source": [
        "# Let’s see how many rows we have using the ‘count’ command\n",
        "radiator_df.Descriptor.count()\n",
        "\n",
        "%%time\n",
        "# To actually compute the count, you have to call “compute” to get dask to run through the dataframe and count the number of records.\n",
        "radiator_df.Descriptor.count().compute()"
      ],
      "execution_count": 16,
      "outputs": [
        {
          "output_type": "execute_result",
          "data": {
            "text/plain": [
              "69027"
            ]
          },
          "metadata": {
            "tags": []
          },
          "execution_count": 16
        }
      ]
    },
    {
      "cell_type": "code",
      "metadata": {
        "id": "iGPFHvMfc6Jr",
        "colab_type": "code",
        "colab": {}
      },
      "source": [
        "%whos"
      ],
      "execution_count": 0,
      "outputs": []
    }
  ]
}