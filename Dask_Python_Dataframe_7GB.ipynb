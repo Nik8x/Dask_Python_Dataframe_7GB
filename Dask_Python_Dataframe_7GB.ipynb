{
  "nbformat": 4,
  "nbformat_minor": 0,
  "metadata": {
    "colab": {
      "name": "Dask_Python_Dataframe_7GB.ipynb",
      "version": "0.3.2",
      "provenance": [],
      "include_colab_link": true
    },
    "kernelspec": {
      "name": "python3",
      "display_name": "Python 3"
    }
  },
  "cells": [
    {
      "cell_type": "markdown",
      "metadata": {
        "id": "view-in-github",
        "colab_type": "text"
      },
      "source": [
        "<a href=\"https://colab.research.google.com/github/Nik8x/Dask_Python_Dataframe_7GB/blob/master/Dask_Python_Dataframe_7GB.ipynb\" target=\"_parent\"><img src=\"https://colab.research.google.com/assets/colab-badge.svg\" alt=\"Open In Colab\"/></a>"
      ]
    },
    {
      "cell_type": "markdown",
      "metadata": {
        "id": "Sv_Qb-Lcx1a7",
        "colab_type": "text"
      },
      "source": [
        "*Dask provides high-level Array, Bag, and DataFrame collections that mimic NumPy, lists, and Pandas but can operate in parallel on datasets that don’t fit into main memory. Dask’s high-level collections are alternatives to NumPy and Pandas for large datasets.*"
      ]
    },
    {
      "cell_type": "markdown",
      "metadata": {
        "id": "wYPnmRHrVmnd",
        "colab_type": "text"
      },
      "source": [
        "[311 Service Requests – 7Gb+ CSV](https://data.cityofnewyork.us/Social-Services/311-Service-Requests/fvrb-kbbt)\n",
        "\n",
        "[Dask – A better way to work with large CSV files in Python](https://pythondata.com/dask-large-csv-python/)"
      ]
    },
    {
      "cell_type": "code",
      "metadata": {
        "id": "glEdSuliORsx",
        "colab_type": "code",
        "colab": {}
      },
      "source": [
        "!wget \"https://data.cityofnewyork.us/api/views/fvrb-kbbt/rows.csv?accessType=DOWNLOAD\""
      ],
      "execution_count": 0,
      "outputs": []
    },
    {
      "cell_type": "code",
      "metadata": {
        "id": "E0q6umoV04Ct",
        "colab_type": "code",
        "colab": {}
      },
      "source": [
        "!rm -r sample_data/"
      ],
      "execution_count": 0,
      "outputs": []
    },
    {
      "cell_type": "code",
      "metadata": {
        "id": "sv_sS0i3Y5MJ",
        "colab_type": "code",
        "colab": {
          "base_uri": "https://localhost:8080/",
          "height": 121
        },
        "outputId": "8e7fb6da-5c1f-49a3-b13a-5ec38dc240b2"
      },
      "source": [
        "%%bash\n",
        "mv rows.csv\\?accessType\\=DOWNLOAD 311.csv\n",
        "ls -la"
      ],
      "execution_count": 4,
      "outputs": [
        {
          "output_type": "stream",
          "text": [
            "total 8259908\n",
            "drwxr-xr-x 1 root root       4096 Aug  2 15:04 .\n",
            "drwxr-xr-x 1 root root       4096 Aug  2 14:27 ..\n",
            "-rw-r--r-- 1 root root 8458119477 Aug  2 15:03 311.csv\n",
            "drwxr-xr-x 1 root root       4096 Jul 30 16:17 .config\n",
            "drwxr-xr-x 2 root root       4096 Aug  2 15:03 .ipynb_checkpoints\n"
          ],
          "name": "stdout"
        }
      ]
    },
    {
      "cell_type": "code",
      "metadata": {
        "id": "e3dyjsLsXZ7j",
        "colab_type": "code",
        "colab": {
          "base_uri": "https://localhost:8080/",
          "height": 69
        },
        "outputId": "6527e68e-b6a4-4c84-e60d-c28516e1dc36"
      },
      "source": [
        "%%time\n",
        "!wc -l 311.csv"
      ],
      "execution_count": 6,
      "outputs": [
        {
          "output_type": "stream",
          "text": [
            "21242044 311.csv\n",
            "CPU times: user 1.71 s, sys: 232 ms, total: 1.94 s\n",
            "Wall time: 5min 12s\n"
          ],
          "name": "stdout"
        }
      ]
    },
    {
      "cell_type": "code",
      "metadata": {
        "id": "e38SMDSTPMML",
        "colab_type": "code",
        "colab": {}
      },
      "source": [
        "pip install dask[complete]"
      ],
      "execution_count": 0,
      "outputs": []
    },
    {
      "cell_type": "code",
      "metadata": {
        "id": "6lq2oPtoVgZd",
        "colab_type": "code",
        "colab": {}
      },
      "source": [
        "import dask.dataframe as dd\n",
        "\n",
        "filename = '311.csv'\n",
        "df = dd.read_csv(filename, dtype='str')\n",
        "# the data isn’t read into memory. we’ve just set up the dataframe to be ready to do some \n",
        "# compute functions on the data in the csv file using familiar functions from pandas."
      ],
      "execution_count": 0,
      "outputs": []
    },
    {
      "cell_type": "code",
      "metadata": {
        "id": "2O16th3_V5-A",
        "colab_type": "code",
        "colab": {
          "base_uri": "https://localhost:8080/",
          "height": 495
        },
        "outputId": "f9420c0a-0743-4938-9099-9b34971524f8"
      },
      "source": [
        "df.head()"
      ],
      "execution_count": 9,
      "outputs": [
        {
          "output_type": "execute_result",
          "data": {
            "text/html": [
              "<div>\n",
              "<style scoped>\n",
              "    .dataframe tbody tr th:only-of-type {\n",
              "        vertical-align: middle;\n",
              "    }\n",
              "\n",
              "    .dataframe tbody tr th {\n",
              "        vertical-align: top;\n",
              "    }\n",
              "\n",
              "    .dataframe thead th {\n",
              "        text-align: right;\n",
              "    }\n",
              "</style>\n",
              "<table border=\"1\" class=\"dataframe\">\n",
              "  <thead>\n",
              "    <tr style=\"text-align: right;\">\n",
              "      <th></th>\n",
              "      <th>Unique Key</th>\n",
              "      <th>Created Date</th>\n",
              "      <th>Closed Date</th>\n",
              "      <th>Agency</th>\n",
              "      <th>Agency Name</th>\n",
              "      <th>Complaint Type</th>\n",
              "      <th>Descriptor</th>\n",
              "      <th>Location Type</th>\n",
              "      <th>Incident Zip</th>\n",
              "      <th>Incident Address</th>\n",
              "      <th>Street Name</th>\n",
              "      <th>Cross Street 1</th>\n",
              "      <th>Cross Street 2</th>\n",
              "      <th>Intersection Street 1</th>\n",
              "      <th>Intersection Street 2</th>\n",
              "      <th>Address Type</th>\n",
              "      <th>City</th>\n",
              "      <th>Landmark</th>\n",
              "      <th>Facility Type</th>\n",
              "      <th>Status</th>\n",
              "      <th>Due Date</th>\n",
              "      <th>Resolution Action Updated Date</th>\n",
              "      <th>Community Board</th>\n",
              "      <th>Borough</th>\n",
              "      <th>X Coordinate (State Plane)</th>\n",
              "      <th>Y Coordinate (State Plane)</th>\n",
              "      <th>Park Facility Name</th>\n",
              "      <th>Park Borough</th>\n",
              "      <th>Vehicle Type</th>\n",
              "      <th>Taxi Company Borough</th>\n",
              "      <th>Taxi Pick Up Location</th>\n",
              "      <th>Bridge Highway Name</th>\n",
              "      <th>Bridge Highway Direction</th>\n",
              "      <th>Road Ramp</th>\n",
              "      <th>Bridge Highway Segment</th>\n",
              "      <th>Latitude</th>\n",
              "      <th>Longitude</th>\n",
              "      <th>Location</th>\n",
              "    </tr>\n",
              "  </thead>\n",
              "  <tbody>\n",
              "    <tr>\n",
              "      <th>0</th>\n",
              "      <td>38983109</td>\n",
              "      <td>04/18/2018 07:58:48 PM</td>\n",
              "      <td>06/28/2018 12:00:00 AM</td>\n",
              "      <td>DOB</td>\n",
              "      <td>Department of Buildings</td>\n",
              "      <td>Special Projects Inspection Team (SPIT)</td>\n",
              "      <td>Sign/Awning/Marquee - Illegal/No Permit</td>\n",
              "      <td>NaN</td>\n",
              "      <td>11208</td>\n",
              "      <td>2986 FULTON STREET</td>\n",
              "      <td>FULTON STREET</td>\n",
              "      <td>NaN</td>\n",
              "      <td>NaN</td>\n",
              "      <td>NaN</td>\n",
              "      <td>NaN</td>\n",
              "      <td>ADDRESS</td>\n",
              "      <td>BROOKLYN</td>\n",
              "      <td>NaN</td>\n",
              "      <td>NaN</td>\n",
              "      <td>Closed</td>\n",
              "      <td>NaN</td>\n",
              "      <td>06/28/2018 12:00:00 AM</td>\n",
              "      <td>05 BROOKLYN</td>\n",
              "      <td>BROOKLYN</td>\n",
              "      <td>1016292</td>\n",
              "      <td>187037</td>\n",
              "      <td>Unspecified</td>\n",
              "      <td>BROOKLYN</td>\n",
              "      <td>NaN</td>\n",
              "      <td>NaN</td>\n",
              "      <td>NaN</td>\n",
              "      <td>NaN</td>\n",
              "      <td>NaN</td>\n",
              "      <td>NaN</td>\n",
              "      <td>NaN</td>\n",
              "      <td>40.67999212943248</td>\n",
              "      <td>-73.88447670118943</td>\n",
              "      <td>(40.67999212943248, -73.88447670118943)</td>\n",
              "    </tr>\n",
              "    <tr>\n",
              "      <th>1</th>\n",
              "      <td>38983146</td>\n",
              "      <td>04/19/2018 09:56:50 AM</td>\n",
              "      <td>04/23/2018 12:00:00 AM</td>\n",
              "      <td>DOB</td>\n",
              "      <td>Department of Buildings</td>\n",
              "      <td>Investigations and Discipline (IAD)</td>\n",
              "      <td>Plumbing Work - Unlicensed/Illegal/Improper Wo...</td>\n",
              "      <td>NaN</td>\n",
              "      <td>11435</td>\n",
              "      <td>138-19 JAMAICA AVENUE</td>\n",
              "      <td>JAMAICA AVENUE</td>\n",
              "      <td>NaN</td>\n",
              "      <td>NaN</td>\n",
              "      <td>NaN</td>\n",
              "      <td>NaN</td>\n",
              "      <td>ADDRESS</td>\n",
              "      <td>Jamaica</td>\n",
              "      <td>NaN</td>\n",
              "      <td>NaN</td>\n",
              "      <td>Closed</td>\n",
              "      <td>NaN</td>\n",
              "      <td>04/23/2018 12:00:00 AM</td>\n",
              "      <td>12 QUEENS</td>\n",
              "      <td>QUEENS</td>\n",
              "      <td>1035649</td>\n",
              "      <td>195279</td>\n",
              "      <td>Unspecified</td>\n",
              "      <td>QUEENS</td>\n",
              "      <td>NaN</td>\n",
              "      <td>NaN</td>\n",
              "      <td>NaN</td>\n",
              "      <td>NaN</td>\n",
              "      <td>NaN</td>\n",
              "      <td>NaN</td>\n",
              "      <td>NaN</td>\n",
              "      <td>40.70252323470668</td>\n",
              "      <td>-73.81462481863822</td>\n",
              "      <td>(40.70252323470668, -73.81462481863822)</td>\n",
              "    </tr>\n",
              "    <tr>\n",
              "      <th>2</th>\n",
              "      <td>30715497</td>\n",
              "      <td>05/27/2015 01:12:31 PM</td>\n",
              "      <td>05/28/2015 10:45:00 AM</td>\n",
              "      <td>DOT</td>\n",
              "      <td>Department of Transportation</td>\n",
              "      <td>Street Condition</td>\n",
              "      <td>Pothole</td>\n",
              "      <td>NaN</td>\n",
              "      <td>10012</td>\n",
              "      <td>NaN</td>\n",
              "      <td>NaN</td>\n",
              "      <td>NaN</td>\n",
              "      <td>NaN</td>\n",
              "      <td>CROSBY STREET</td>\n",
              "      <td>SPRING STREET</td>\n",
              "      <td>INTERSECTION</td>\n",
              "      <td>NEW YORK</td>\n",
              "      <td>NaN</td>\n",
              "      <td>NaN</td>\n",
              "      <td>Closed</td>\n",
              "      <td>NaN</td>\n",
              "      <td>05/28/2015 10:45:00 AM</td>\n",
              "      <td>02 MANHATTAN</td>\n",
              "      <td>MANHATTAN</td>\n",
              "      <td>984810</td>\n",
              "      <td>202562</td>\n",
              "      <td>Unspecified</td>\n",
              "      <td>MANHATTAN</td>\n",
              "      <td>NaN</td>\n",
              "      <td>NaN</td>\n",
              "      <td>NaN</td>\n",
              "      <td>NaN</td>\n",
              "      <td>NaN</td>\n",
              "      <td>NaN</td>\n",
              "      <td>NaN</td>\n",
              "      <td>40.72266259352169</td>\n",
              "      <td>-73.99797970010471</td>\n",
              "      <td>(40.72266259352169, -73.99797970010471)</td>\n",
              "    </tr>\n",
              "    <tr>\n",
              "      <th>3</th>\n",
              "      <td>38983112</td>\n",
              "      <td>04/19/2018 05:10:28 PM</td>\n",
              "      <td>04/20/2018 03:24:30 PM</td>\n",
              "      <td>DOHMH</td>\n",
              "      <td>Department of Health and Mental Hygiene</td>\n",
              "      <td>Indoor Air Quality</td>\n",
              "      <td>Dust from Construction</td>\n",
              "      <td>3+ Family Apartment Building</td>\n",
              "      <td>11215</td>\n",
              "      <td>594 6 STREET</td>\n",
              "      <td>6 STREET</td>\n",
              "      <td>8 AVENUE</td>\n",
              "      <td>PROSPECT PARK WEST</td>\n",
              "      <td>NaN</td>\n",
              "      <td>NaN</td>\n",
              "      <td>ADDRESS</td>\n",
              "      <td>BROOKLYN</td>\n",
              "      <td>NaN</td>\n",
              "      <td>NaN</td>\n",
              "      <td>Closed</td>\n",
              "      <td>06/03/2018 05:10:28 PM</td>\n",
              "      <td>04/20/2018 03:24:30 PM</td>\n",
              "      <td>06 BROOKLYN</td>\n",
              "      <td>BROOKLYN</td>\n",
              "      <td>990744</td>\n",
              "      <td>182290</td>\n",
              "      <td>Unspecified</td>\n",
              "      <td>BROOKLYN</td>\n",
              "      <td>NaN</td>\n",
              "      <td>NaN</td>\n",
              "      <td>NaN</td>\n",
              "      <td>NaN</td>\n",
              "      <td>NaN</td>\n",
              "      <td>NaN</td>\n",
              "      <td>NaN</td>\n",
              "      <td>40.667018292174596</td>\n",
              "      <td>-73.97659128104526</td>\n",
              "      <td>(40.667018292174596, -73.97659128104526)</td>\n",
              "    </tr>\n",
              "    <tr>\n",
              "      <th>4</th>\n",
              "      <td>30715498</td>\n",
              "      <td>05/28/2015 08:59:23 PM</td>\n",
              "      <td>07/20/2015 03:32:37 PM</td>\n",
              "      <td>HPD</td>\n",
              "      <td>Department of Housing Preservation and Develop...</td>\n",
              "      <td>UNSANITARY CONDITION</td>\n",
              "      <td>PESTS</td>\n",
              "      <td>RESIDENTIAL BUILDING</td>\n",
              "      <td>11216</td>\n",
              "      <td>273 GATES AVENUE</td>\n",
              "      <td>GATES AVENUE</td>\n",
              "      <td>NaN</td>\n",
              "      <td>NaN</td>\n",
              "      <td>NaN</td>\n",
              "      <td>NaN</td>\n",
              "      <td>ADDRESS</td>\n",
              "      <td>BROOKLYN</td>\n",
              "      <td>NaN</td>\n",
              "      <td>NaN</td>\n",
              "      <td>Closed</td>\n",
              "      <td>NaN</td>\n",
              "      <td>07/20/2015 03:32:37 PM</td>\n",
              "      <td>03 BROOKLYN</td>\n",
              "      <td>BROOKLYN</td>\n",
              "      <td>996389</td>\n",
              "      <td>189054</td>\n",
              "      <td>Unspecified</td>\n",
              "      <td>BROOKLYN</td>\n",
              "      <td>NaN</td>\n",
              "      <td>NaN</td>\n",
              "      <td>NaN</td>\n",
              "      <td>NaN</td>\n",
              "      <td>NaN</td>\n",
              "      <td>NaN</td>\n",
              "      <td>NaN</td>\n",
              "      <td>40.68557800392962</td>\n",
              "      <td>-73.95623074565354</td>\n",
              "      <td>(40.68557800392962, -73.95623074565354)</td>\n",
              "    </tr>\n",
              "  </tbody>\n",
              "</table>\n",
              "</div>"
            ],
            "text/plain": [
              "  Unique Key  ...                                  Location\n",
              "0   38983109  ...   (40.67999212943248, -73.88447670118943)\n",
              "1   38983146  ...   (40.70252323470668, -73.81462481863822)\n",
              "2   30715497  ...   (40.72266259352169, -73.99797970010471)\n",
              "3   38983112  ...  (40.667018292174596, -73.97659128104526)\n",
              "4   30715498  ...   (40.68557800392962, -73.95623074565354)\n",
              "\n",
              "[5 rows x 38 columns]"
            ]
          },
          "metadata": {
            "tags": []
          },
          "execution_count": 9
        }
      ]
    },
    {
      "cell_type": "code",
      "metadata": {
        "id": "BanB49Ms3SlA",
        "colab_type": "code",
        "colab": {
          "base_uri": "https://localhost:8080/",
          "height": 224
        },
        "outputId": "26e7ded0-7306-4155-b240-feb26380a007"
      },
      "source": [
        "df.columns"
      ],
      "execution_count": 11,
      "outputs": [
        {
          "output_type": "execute_result",
          "data": {
            "text/plain": [
              "Index(['UniqueKey', 'CreatedDate', 'ClosedDate', 'Agency', 'AgencyName',\n",
              "       'ComplaintType', 'Descriptor', 'LocationType', 'IncidentZip',\n",
              "       'IncidentAddress', 'StreetName', 'CrossStreet1', 'CrossStreet2',\n",
              "       'IntersectionStreet1', 'IntersectionStreet2', 'AddressType', 'City',\n",
              "       'Landmark', 'FacilityType', 'Status', 'DueDate',\n",
              "       'ResolutionActionUpdatedDate', 'CommunityBoard', 'Borough',\n",
              "       'XCoordinate(StatePlane)', 'YCoordinate(StatePlane)',\n",
              "       'ParkFacilityName', 'ParkBorough', 'VehicleType', 'TaxiCompanyBorough',\n",
              "       'TaxiPickUpLocation', 'BridgeHighwayName', 'BridgeHighwayDirection',\n",
              "       'RoadRamp', 'BridgeHighwaySegment', 'Latitude', 'Longitude',\n",
              "       'Location'],\n",
              "      dtype='object')"
            ]
          },
          "metadata": {
            "tags": []
          },
          "execution_count": 11
        }
      ]
    },
    {
      "cell_type": "code",
      "metadata": {
        "id": "fdAK_bagWHiO",
        "colab_type": "code",
        "colab": {
          "base_uri": "https://localhost:8080/",
          "height": 52
        },
        "outputId": "85b5e529-f494-4cc8-b010-271d7d1c53f9"
      },
      "source": [
        "# We see that there’s some spaces in the column names. Let’s remove those spaces to make things easier to work with.\n",
        "%%time\n",
        "df = df.rename(columns={c: c.replace(' ', '') for c in df.columns})"
      ],
      "execution_count": 10,
      "outputs": [
        {
          "output_type": "stream",
          "text": [
            "CPU times: user 17.1 ms, sys: 888 µs, total: 18 ms\n",
            "Wall time: 17.6 ms\n"
          ],
          "name": "stdout"
        }
      ]
    },
    {
      "cell_type": "code",
      "metadata": {
        "id": "o7lCmIdm3JTT",
        "colab_type": "code",
        "colab": {
          "base_uri": "https://localhost:8080/",
          "height": 86
        },
        "outputId": "e9f930fd-a9e6-4059-d4a2-03be0908157f"
      },
      "source": [
        "%time df.info()"
      ],
      "execution_count": 15,
      "outputs": [
        {
          "output_type": "stream",
          "text": [
            "<class 'dask.dataframe.core.DataFrame'>\n",
            "Columns: 38 entries, UniqueKey to Location\n",
            "dtypes: object(38)CPU times: user 3.71 ms, sys: 125 µs, total: 3.83 ms\n",
            "Wall time: 3.39 ms\n"
          ],
          "name": "stdout"
        }
      ]
    },
    {
      "cell_type": "code",
      "metadata": {
        "id": "DHv1OgdX3LWi",
        "colab_type": "code",
        "colab": {
          "base_uri": "https://localhost:8080/",
          "height": 227
        },
        "outputId": "beeb1a21-8dc2-4ded-f1a0-e0b994b34c9e"
      },
      "source": [
        "%time df.describe"
      ],
      "execution_count": 16,
      "outputs": [
        {
          "output_type": "stream",
          "text": [
            "CPU times: user 9 µs, sys: 2 µs, total: 11 µs\n",
            "Wall time: 13.4 µs\n"
          ],
          "name": "stdout"
        },
        {
          "output_type": "execute_result",
          "data": {
            "text/plain": [
              "<bound method _Frame.describe of Dask DataFrame Structure:\n",
              "                UniqueKey CreatedDate ClosedDate  Agency AgencyName ComplaintType Descriptor LocationType IncidentZip IncidentAddress StreetName CrossStreet1 CrossStreet2 IntersectionStreet1 IntersectionStreet2 AddressType    City Landmark FacilityType  Status DueDate ResolutionActionUpdatedDate CommunityBoard Borough XCoordinate(StatePlane) YCoordinate(StatePlane) ParkFacilityName ParkBorough VehicleType TaxiCompanyBorough TaxiPickUpLocation BridgeHighwayName BridgeHighwayDirection RoadRamp BridgeHighwaySegment Latitude Longitude Location\n",
              "npartitions=133                                                                                                                                                                                                                                                                                                                                                                                                                                                                                                                                                  \n",
              "                   object      object     object  object     object        object     object       object      object          object     object       object       object              object              object      object  object   object       object  object  object                      object         object  object                  object                  object           object      object      object             object             object            object                 object   object               object   object    object   object\n",
              "                      ...         ...        ...     ...        ...           ...        ...          ...         ...             ...        ...          ...          ...                 ...                 ...         ...     ...      ...          ...     ...     ...                         ...            ...     ...                     ...                     ...              ...         ...         ...                ...                ...               ...                    ...      ...                  ...      ...       ...      ...\n",
              "...                   ...         ...        ...     ...        ...           ...        ...          ...         ...             ...        ...          ...          ...                 ...                 ...         ...     ...      ...          ...     ...     ...                         ...            ...     ...                     ...                     ...              ...         ...         ...                ...                ...               ...                    ...      ...                  ...      ...       ...      ...\n",
              "                      ...         ...        ...     ...        ...           ...        ...          ...         ...             ...        ...          ...          ...                 ...                 ...         ...     ...      ...          ...     ...     ...                         ...            ...     ...                     ...                     ...              ...         ...         ...                ...                ...               ...                    ...      ...                  ...      ...       ...      ...\n",
              "                      ...         ...        ...     ...        ...           ...        ...          ...         ...             ...        ...          ...          ...                 ...                 ...         ...     ...      ...          ...     ...     ...                         ...            ...     ...                     ...                     ...              ...         ...         ...                ...                ...               ...                    ...      ...                  ...      ...       ...      ...\n",
              "Dask Name: rename, 532 tasks>"
            ]
          },
          "metadata": {
            "tags": []
          },
          "execution_count": 16
        }
      ]
    },
    {
      "cell_type": "code",
      "metadata": {
        "id": "2M2iaP9P3O31",
        "colab_type": "code",
        "colab": {
          "base_uri": "https://localhost:8080/",
          "height": 69
        },
        "outputId": "fb9cc0b1-d0cc-4ee3-b58d-9103c9bea0e1"
      },
      "source": [
        "%time df.shape"
      ],
      "execution_count": 19,
      "outputs": [
        {
          "output_type": "stream",
          "text": [
            "CPU times: user 1.24 ms, sys: 41 µs, total: 1.28 ms\n",
            "Wall time: 1.25 ms\n"
          ],
          "name": "stdout"
        },
        {
          "output_type": "execute_result",
          "data": {
            "text/plain": [
              "(Delayed('int-47eef94a-03c8-4dfc-ae4d-a38601b6d4dc'), 38)"
            ]
          },
          "metadata": {
            "tags": []
          },
          "execution_count": 19
        }
      ]
    },
    {
      "cell_type": "code",
      "metadata": {
        "id": "2vIyfAcP3aDJ",
        "colab_type": "code",
        "colab": {}
      },
      "source": [
        "%time df.isna().sum().compute()"
      ],
      "execution_count": 0,
      "outputs": []
    },
    {
      "cell_type": "code",
      "metadata": {
        "id": "OuCjOCfUWNE0",
        "colab_type": "code",
        "colab": {}
      },
      "source": [
        "# create a new dataframe with only 'RADIATOR' service calls\n",
        "%%time\n",
        "radiator_df = df[df.Descriptor == 'RADIATOR']"
      ],
      "execution_count": 0,
      "outputs": []
    },
    {
      "cell_type": "code",
      "metadata": {
        "id": "WRTWfKYfWS3y",
        "colab_type": "code",
        "colab": {
          "base_uri": "https://localhost:8080/",
          "height": 34
        },
        "outputId": "a7320701-4a23-4b04-a8c5-26c1a7b1b113"
      },
      "source": [
        "# Let’s see how many rows we have using the ‘count’ command\n",
        "radiator_df.Descriptor.count()\n",
        "\n",
        "%%time\n",
        "# To actually compute the count, you have to call “compute” to get dask to run through the dataframe and count the number of records.\n",
        "radiator_df.Descriptor.count().compute()"
      ],
      "execution_count": 16,
      "outputs": [
        {
          "output_type": "execute_result",
          "data": {
            "text/plain": [
              "69027"
            ]
          },
          "metadata": {
            "tags": []
          },
          "execution_count": 16
        }
      ]
    },
    {
      "cell_type": "code",
      "metadata": {
        "id": "iGPFHvMfc6Jr",
        "colab_type": "code",
        "colab": {}
      },
      "source": [
        "%whos"
      ],
      "execution_count": 0,
      "outputs": []
    }
  ]
}