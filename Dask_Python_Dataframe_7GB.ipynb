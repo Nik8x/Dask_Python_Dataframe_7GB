{
  "nbformat": 4,
  "nbformat_minor": 0,
  "metadata": {
    "colab": {
      "name": "Dask_Python_Dataframe_7GB.ipynb",
      "version": "0.3.2",
      "provenance": [],
      "include_colab_link": true
    },
    "kernelspec": {
      "name": "python3",
      "display_name": "Python 3"
    }
  },
  "cells": [
    {
      "cell_type": "markdown",
      "metadata": {
        "id": "view-in-github",
        "colab_type": "text"
      },
      "source": [
        "<a href=\"https://colab.research.google.com/github/Nik8x/Dask_Python_Dataframe_7GB/blob/master/Dask_Python_Dataframe_7GB.ipynb\" target=\"_parent\"><img src=\"https://colab.research.google.com/assets/colab-badge.svg\" alt=\"Open In Colab\"/></a>"
      ]
    },
    {
      "cell_type": "markdown",
      "metadata": {
        "id": "Sv_Qb-Lcx1a7",
        "colab_type": "text"
      },
      "source": [
        "*Dask provides high-level Array, Bag, and DataFrame collections that mimic NumPy, lists, and Pandas but can operate in parallel on datasets that don’t fit into main memory. Dask’s high-level collections are alternatives to NumPy and Pandas for large datasets.*"
      ]
    },
    {
      "cell_type": "markdown",
      "metadata": {
        "id": "wYPnmRHrVmnd",
        "colab_type": "text"
      },
      "source": [
        "[311 Service Requests – 7Gb+ CSV](https://data.cityofnewyork.us/Social-Services/311-Service-Requests/fvrb-kbbt)"
      ]
    },
    {
      "cell_type": "code",
      "metadata": {
        "id": "glEdSuliORsx",
        "colab_type": "code",
        "colab": {
          "base_uri": "https://localhost:8080/",
          "height": 259
        },
        "outputId": "8f6034ed-948c-41fe-e564-4347bc224a8a"
      },
      "source": [
        "%%time\n",
        "!wget \"https://data.cityofnewyork.us/api/views/fvrb-kbbt/rows.csv?accessType=DOWNLOAD\""
      ],
      "execution_count": 2,
      "outputs": [
        {
          "output_type": "stream",
          "text": [
            "--2019-08-02 22:37:00--  https://data.cityofnewyork.us/api/views/fvrb-kbbt/rows.csv?accessType=DOWNLOAD\n",
            "Resolving data.cityofnewyork.us (data.cityofnewyork.us)... 52.206.140.205, 52.206.140.199, 52.206.68.26\n",
            "Connecting to data.cityofnewyork.us (data.cityofnewyork.us)|52.206.140.205|:443... connected.\n",
            "HTTP request sent, awaiting response... 200 OK\n",
            "Length: unspecified [text/csv]\n",
            "Saving to: ‘rows.csv?accessType=DOWNLOAD’\n",
            "\n",
            "rows.csv?accessType     [    <=>             ]   7.88G  4.29MB/s    in 33m 40s \n",
            "\n",
            "Last-modified header invalid -- time-stamp ignored.\n",
            "2019-08-02 23:10:41 (3.99 MB/s) - ‘rows.csv?accessType=DOWNLOAD’ saved [8458119477]\n",
            "\n",
            "CPU times: user 22.4 s, sys: 5.49 s, total: 27.9 s\n",
            "Wall time: 33min 40s\n"
          ],
          "name": "stdout"
        }
      ]
    },
    {
      "cell_type": "code",
      "metadata": {
        "id": "E0q6umoV04Ct",
        "colab_type": "code",
        "colab": {}
      },
      "source": [
        "!rm -r sample_data/"
      ],
      "execution_count": 0,
      "outputs": []
    },
    {
      "cell_type": "code",
      "metadata": {
        "id": "sv_sS0i3Y5MJ",
        "colab_type": "code",
        "outputId": "767574b4-cfb0-4e83-89c7-96dc6882e476",
        "colab": {
          "base_uri": "https://localhost:8080/",
          "height": 121
        }
      },
      "source": [
        "%%bash\n",
        "mv rows.csv\\?accessType\\=DOWNLOAD 311.csv\n",
        "ls -la -h"
      ],
      "execution_count": 6,
      "outputs": [
        {
          "output_type": "stream",
          "text": [
            "total 7.9G\n",
            "drwxr-xr-x 1 root root 4.0K Aug  2 23:13 .\n",
            "drwxr-xr-x 1 root root 4.0K Aug  2 22:34 ..\n",
            "-rw-r--r-- 1 root root 7.9G Aug  2 23:10 311.csv\n",
            "drwxr-xr-x 1 root root 4.0K Aug  1 16:08 .config\n",
            "drwxr-xr-x 2 root root 4.0K Aug  2 22:36 .ipynb_checkpoints\n"
          ],
          "name": "stdout"
        }
      ]
    },
    {
      "cell_type": "code",
      "metadata": {
        "id": "e3dyjsLsXZ7j",
        "colab_type": "code",
        "outputId": "bcd0038c-9165-4005-861b-45ce2642e40a",
        "colab": {
          "base_uri": "https://localhost:8080/",
          "height": 69
        }
      },
      "source": [
        "%%time\n",
        "!wc -l 311.csv"
      ],
      "execution_count": 8,
      "outputs": [
        {
          "output_type": "stream",
          "text": [
            "21242044 311.csv\n",
            "CPU times: user 1.63 s, sys: 255 ms, total: 1.89 s\n",
            "Wall time: 5min 11s\n"
          ],
          "name": "stdout"
        }
      ]
    },
    {
      "cell_type": "code",
      "metadata": {
        "id": "e38SMDSTPMML",
        "colab_type": "code",
        "colab": {}
      },
      "source": [
        "pip install dask[complete]"
      ],
      "execution_count": 0,
      "outputs": []
    },
    {
      "cell_type": "code",
      "metadata": {
        "id": "6lq2oPtoVgZd",
        "colab_type": "code",
        "colab": {}
      },
      "source": [
        "import dask.dataframe as dd\n",
        "\n",
        "filename = '311.csv'\n",
        "df = dd.read_csv(filename, dtype='str')\n",
        "# the data isn’t read into memory. we’ve just set up the dataframe to be ready to do some \n",
        "# compute functions on the data in the csv file using familiar functions from pandas."
      ],
      "execution_count": 0,
      "outputs": []
    },
    {
      "cell_type": "code",
      "metadata": {
        "id": "2O16th3_V5-A",
        "colab_type": "code",
        "outputId": "3f334655-e55a-47ad-ac3a-de36006e12c0",
        "colab": {
          "base_uri": "https://localhost:8080/",
          "height": 495
        }
      },
      "source": [
        "df.head()"
      ],
      "execution_count": 11,
      "outputs": [
        {
          "output_type": "execute_result",
          "data": {
            "text/html": [
              "<div>\n",
              "<style scoped>\n",
              "    .dataframe tbody tr th:only-of-type {\n",
              "        vertical-align: middle;\n",
              "    }\n",
              "\n",
              "    .dataframe tbody tr th {\n",
              "        vertical-align: top;\n",
              "    }\n",
              "\n",
              "    .dataframe thead th {\n",
              "        text-align: right;\n",
              "    }\n",
              "</style>\n",
              "<table border=\"1\" class=\"dataframe\">\n",
              "  <thead>\n",
              "    <tr style=\"text-align: right;\">\n",
              "      <th></th>\n",
              "      <th>Unique Key</th>\n",
              "      <th>Created Date</th>\n",
              "      <th>Closed Date</th>\n",
              "      <th>Agency</th>\n",
              "      <th>Agency Name</th>\n",
              "      <th>Complaint Type</th>\n",
              "      <th>Descriptor</th>\n",
              "      <th>Location Type</th>\n",
              "      <th>Incident Zip</th>\n",
              "      <th>Incident Address</th>\n",
              "      <th>Street Name</th>\n",
              "      <th>Cross Street 1</th>\n",
              "      <th>Cross Street 2</th>\n",
              "      <th>Intersection Street 1</th>\n",
              "      <th>Intersection Street 2</th>\n",
              "      <th>Address Type</th>\n",
              "      <th>City</th>\n",
              "      <th>Landmark</th>\n",
              "      <th>Facility Type</th>\n",
              "      <th>Status</th>\n",
              "      <th>Due Date</th>\n",
              "      <th>Resolution Action Updated Date</th>\n",
              "      <th>Community Board</th>\n",
              "      <th>Borough</th>\n",
              "      <th>X Coordinate (State Plane)</th>\n",
              "      <th>Y Coordinate (State Plane)</th>\n",
              "      <th>Park Facility Name</th>\n",
              "      <th>Park Borough</th>\n",
              "      <th>Vehicle Type</th>\n",
              "      <th>Taxi Company Borough</th>\n",
              "      <th>Taxi Pick Up Location</th>\n",
              "      <th>Bridge Highway Name</th>\n",
              "      <th>Bridge Highway Direction</th>\n",
              "      <th>Road Ramp</th>\n",
              "      <th>Bridge Highway Segment</th>\n",
              "      <th>Latitude</th>\n",
              "      <th>Longitude</th>\n",
              "      <th>Location</th>\n",
              "    </tr>\n",
              "  </thead>\n",
              "  <tbody>\n",
              "    <tr>\n",
              "      <th>0</th>\n",
              "      <td>31182049</td>\n",
              "      <td>07/28/2015 08:16:00 AM</td>\n",
              "      <td>07/31/2015 12:50:00 PM</td>\n",
              "      <td>DEP</td>\n",
              "      <td>Department of Environmental Protection</td>\n",
              "      <td>Water System</td>\n",
              "      <td>High Water Pressure (WHP)</td>\n",
              "      <td>NaN</td>\n",
              "      <td>11218</td>\n",
              "      <td>161 PROSPECT PARK SOUTHWEST</td>\n",
              "      <td>PROSPECT PARK SOUTHWEST</td>\n",
              "      <td>VANDERBILT ST</td>\n",
              "      <td>REEVE PL</td>\n",
              "      <td>NaN</td>\n",
              "      <td>NaN</td>\n",
              "      <td>ADDRESS</td>\n",
              "      <td>BROOKLYN</td>\n",
              "      <td>NaN</td>\n",
              "      <td>NaN</td>\n",
              "      <td>Closed</td>\n",
              "      <td>NaN</td>\n",
              "      <td>07/31/2015 12:50:00 PM</td>\n",
              "      <td>07 BROOKLYN</td>\n",
              "      <td>BROOKLYN</td>\n",
              "      <td>991674</td>\n",
              "      <td>177743</td>\n",
              "      <td>Unspecified</td>\n",
              "      <td>BROOKLYN</td>\n",
              "      <td>NaN</td>\n",
              "      <td>NaN</td>\n",
              "      <td>NaN</td>\n",
              "      <td>NaN</td>\n",
              "      <td>NaN</td>\n",
              "      <td>NaN</td>\n",
              "      <td>NaN</td>\n",
              "      <td>40.6545370494088</td>\n",
              "      <td>-73.97324394564914</td>\n",
              "      <td>(40.6545370494088, -73.97324394564914)</td>\n",
              "    </tr>\n",
              "    <tr>\n",
              "      <th>1</th>\n",
              "      <td>31182050</td>\n",
              "      <td>07/27/2015 07:59:00 PM</td>\n",
              "      <td>07/30/2015 12:00:00 PM</td>\n",
              "      <td>DSNY</td>\n",
              "      <td>BCC - Brooklyn South</td>\n",
              "      <td>Sanitation Condition</td>\n",
              "      <td>12 Dead Animals</td>\n",
              "      <td>Sidewalk</td>\n",
              "      <td>11230</td>\n",
              "      <td>1480 EAST   12 STREET</td>\n",
              "      <td>EAST   12 STREET</td>\n",
              "      <td>AVENUE N</td>\n",
              "      <td>AVENUE O</td>\n",
              "      <td>NaN</td>\n",
              "      <td>NaN</td>\n",
              "      <td>ADDRESS</td>\n",
              "      <td>BROOKLYN</td>\n",
              "      <td>NaN</td>\n",
              "      <td>DSNY Garage</td>\n",
              "      <td>Closed</td>\n",
              "      <td>NaN</td>\n",
              "      <td>07/30/2015 12:00:00 PM</td>\n",
              "      <td>14 BROOKLYN</td>\n",
              "      <td>BROOKLYN</td>\n",
              "      <td>994796</td>\n",
              "      <td>162766</td>\n",
              "      <td>Unspecified</td>\n",
              "      <td>BROOKLYN</td>\n",
              "      <td>NaN</td>\n",
              "      <td>NaN</td>\n",
              "      <td>NaN</td>\n",
              "      <td>NaN</td>\n",
              "      <td>NaN</td>\n",
              "      <td>NaN</td>\n",
              "      <td>NaN</td>\n",
              "      <td>40.613425200105816</td>\n",
              "      <td>-73.96201568213259</td>\n",
              "      <td>(40.613425200105816, -73.96201568213259)</td>\n",
              "    </tr>\n",
              "    <tr>\n",
              "      <th>2</th>\n",
              "      <td>31182053</td>\n",
              "      <td>07/28/2015 12:00:00 AM</td>\n",
              "      <td>08/05/2015 12:00:00 AM</td>\n",
              "      <td>DOHMH</td>\n",
              "      <td>Department of Health and Mental Hygiene</td>\n",
              "      <td>Rodent</td>\n",
              "      <td>Rat Sighting</td>\n",
              "      <td>Other (Explain Below)</td>\n",
              "      <td>10075</td>\n",
              "      <td>NaN</td>\n",
              "      <td>NaN</td>\n",
              "      <td>NaN</td>\n",
              "      <td>NaN</td>\n",
              "      <td>EAST 80 STREET</td>\n",
              "      <td>2 AVENUE</td>\n",
              "      <td>INTERSECTION</td>\n",
              "      <td>NEW YORK</td>\n",
              "      <td>NaN</td>\n",
              "      <td>NaN</td>\n",
              "      <td>Closed</td>\n",
              "      <td>08/27/2015 11:44:33 AM</td>\n",
              "      <td>08/05/2015 12:00:00 AM</td>\n",
              "      <td>08 MANHATTAN</td>\n",
              "      <td>MANHATTAN</td>\n",
              "      <td>996836</td>\n",
              "      <td>221277</td>\n",
              "      <td>Unspecified</td>\n",
              "      <td>MANHATTAN</td>\n",
              "      <td>NaN</td>\n",
              "      <td>NaN</td>\n",
              "      <td>NaN</td>\n",
              "      <td>NaN</td>\n",
              "      <td>NaN</td>\n",
              "      <td>NaN</td>\n",
              "      <td>NaN</td>\n",
              "      <td>40.77402161430348</td>\n",
              "      <td>-73.95455873895823</td>\n",
              "      <td>(40.77402161430348, -73.95455873895823)</td>\n",
              "    </tr>\n",
              "    <tr>\n",
              "      <th>3</th>\n",
              "      <td>31182054</td>\n",
              "      <td>07/28/2015 07:36:00 PM</td>\n",
              "      <td>08/04/2015 03:55:00 AM</td>\n",
              "      <td>DEP</td>\n",
              "      <td>Department of Environmental Protection</td>\n",
              "      <td>Water System</td>\n",
              "      <td>Hydrant Knocked Over/Missing (WC)</td>\n",
              "      <td>NaN</td>\n",
              "      <td>11219</td>\n",
              "      <td>4714 13 AVENUE</td>\n",
              "      <td>13 AVENUE</td>\n",
              "      <td>47 ST</td>\n",
              "      <td>48 ST</td>\n",
              "      <td>NaN</td>\n",
              "      <td>NaN</td>\n",
              "      <td>ADDRESS</td>\n",
              "      <td>BROOKLYN</td>\n",
              "      <td>NaN</td>\n",
              "      <td>NaN</td>\n",
              "      <td>Closed</td>\n",
              "      <td>NaN</td>\n",
              "      <td>08/04/2015 03:55:00 AM</td>\n",
              "      <td>12 BROOKLYN</td>\n",
              "      <td>BROOKLYN</td>\n",
              "      <td>986717</td>\n",
              "      <td>170993</td>\n",
              "      <td>Unspecified</td>\n",
              "      <td>BROOKLYN</td>\n",
              "      <td>NaN</td>\n",
              "      <td>NaN</td>\n",
              "      <td>NaN</td>\n",
              "      <td>NaN</td>\n",
              "      <td>NaN</td>\n",
              "      <td>NaN</td>\n",
              "      <td>NaN</td>\n",
              "      <td>40.63601252362889</td>\n",
              "      <td>-73.99111141407735</td>\n",
              "      <td>(40.63601252362889, -73.99111141407735)</td>\n",
              "    </tr>\n",
              "    <tr>\n",
              "      <th>4</th>\n",
              "      <td>31182055</td>\n",
              "      <td>07/28/2015 11:40:42 PM</td>\n",
              "      <td>07/29/2015 02:13:48 AM</td>\n",
              "      <td>NYPD</td>\n",
              "      <td>New York City Police Department</td>\n",
              "      <td>Noise - Street/Sidewalk</td>\n",
              "      <td>Loud Music/Party</td>\n",
              "      <td>Street/Sidewalk</td>\n",
              "      <td>10033</td>\n",
              "      <td>556 WEST 180 STREET</td>\n",
              "      <td>WEST 180 STREET</td>\n",
              "      <td>AUDUBON AVENUE</td>\n",
              "      <td>ST NICHOLAS AVENUE</td>\n",
              "      <td>NaN</td>\n",
              "      <td>NaN</td>\n",
              "      <td>ADDRESS</td>\n",
              "      <td>NEW YORK</td>\n",
              "      <td>NaN</td>\n",
              "      <td>Precinct</td>\n",
              "      <td>Closed</td>\n",
              "      <td>07/29/2015 07:40:42 AM</td>\n",
              "      <td>07/29/2015 02:13:48 AM</td>\n",
              "      <td>12 MANHATTAN</td>\n",
              "      <td>MANHATTAN</td>\n",
              "      <td>1002666</td>\n",
              "      <td>248335</td>\n",
              "      <td>Unspecified</td>\n",
              "      <td>MANHATTAN</td>\n",
              "      <td>NaN</td>\n",
              "      <td>NaN</td>\n",
              "      <td>NaN</td>\n",
              "      <td>NaN</td>\n",
              "      <td>NaN</td>\n",
              "      <td>NaN</td>\n",
              "      <td>NaN</td>\n",
              "      <td>40.84827805311061</td>\n",
              "      <td>-73.93343552336337</td>\n",
              "      <td>(40.84827805311061, -73.93343552336337)</td>\n",
              "    </tr>\n",
              "  </tbody>\n",
              "</table>\n",
              "</div>"
            ],
            "text/plain": [
              "  Unique Key  ...                                  Location\n",
              "0   31182049  ...    (40.6545370494088, -73.97324394564914)\n",
              "1   31182050  ...  (40.613425200105816, -73.96201568213259)\n",
              "2   31182053  ...   (40.77402161430348, -73.95455873895823)\n",
              "3   31182054  ...   (40.63601252362889, -73.99111141407735)\n",
              "4   31182055  ...   (40.84827805311061, -73.93343552336337)\n",
              "\n",
              "[5 rows x 38 columns]"
            ]
          },
          "metadata": {
            "tags": []
          },
          "execution_count": 11
        }
      ]
    },
    {
      "cell_type": "code",
      "metadata": {
        "id": "BanB49Ms3SlA",
        "colab_type": "code",
        "outputId": "d7fe91b2-4ee2-4e28-eba8-a5d9af0bcc5d",
        "colab": {
          "base_uri": "https://localhost:8080/",
          "height": 224
        }
      },
      "source": [
        "df.columns"
      ],
      "execution_count": 12,
      "outputs": [
        {
          "output_type": "execute_result",
          "data": {
            "text/plain": [
              "Index(['Unique Key', 'Created Date', 'Closed Date', 'Agency', 'Agency Name',\n",
              "       'Complaint Type', 'Descriptor', 'Location Type', 'Incident Zip',\n",
              "       'Incident Address', 'Street Name', 'Cross Street 1', 'Cross Street 2',\n",
              "       'Intersection Street 1', 'Intersection Street 2', 'Address Type',\n",
              "       'City', 'Landmark', 'Facility Type', 'Status', 'Due Date',\n",
              "       'Resolution Action Updated Date', 'Community Board', 'Borough',\n",
              "       'X Coordinate (State Plane)', 'Y Coordinate (State Plane)',\n",
              "       'Park Facility Name', 'Park Borough', 'Vehicle Type',\n",
              "       'Taxi Company Borough', 'Taxi Pick Up Location', 'Bridge Highway Name',\n",
              "       'Bridge Highway Direction', 'Road Ramp', 'Bridge Highway Segment',\n",
              "       'Latitude', 'Longitude', 'Location'],\n",
              "      dtype='object')"
            ]
          },
          "metadata": {
            "tags": []
          },
          "execution_count": 12
        }
      ]
    },
    {
      "cell_type": "code",
      "metadata": {
        "id": "fdAK_bagWHiO",
        "colab_type": "code",
        "outputId": "bfd03d22-d10d-4bcc-ac52-2de28b24d441",
        "colab": {
          "base_uri": "https://localhost:8080/",
          "height": 52
        }
      },
      "source": [
        "# We see that there’s some spaces in the column names. Let’s remove those spaces to make things easier to work with.\n",
        "%%time\n",
        "df = df.rename(columns={c: c.replace(' ', '') for c in df.columns})"
      ],
      "execution_count": 13,
      "outputs": [
        {
          "output_type": "stream",
          "text": [
            "CPU times: user 24.1 ms, sys: 1.71 ms, total: 25.8 ms\n",
            "Wall time: 28.2 ms\n"
          ],
          "name": "stdout"
        }
      ]
    },
    {
      "cell_type": "code",
      "metadata": {
        "id": "2M2iaP9P3O31",
        "colab_type": "code",
        "outputId": "a281b82a-8f8d-4a75-9c41-2105795d79b4",
        "colab": {
          "base_uri": "https://localhost:8080/",
          "height": 69
        }
      },
      "source": [
        "%%time\n",
        "df.shape[0].compute(), df.shape[1]"
      ],
      "execution_count": 17,
      "outputs": [
        {
          "output_type": "stream",
          "text": [
            "CPU times: user 4min 48s, sys: 9.73 s, total: 4min 57s\n",
            "Wall time: 5min 11s\n"
          ],
          "name": "stdout"
        },
        {
          "output_type": "execute_result",
          "data": {
            "text/plain": [
              "(21242043, 38)"
            ]
          },
          "metadata": {
            "tags": []
          },
          "execution_count": 17
        }
      ]
    },
    {
      "cell_type": "code",
      "metadata": {
        "id": "o7lCmIdm3JTT",
        "colab_type": "code",
        "outputId": "bb727e12-6346-4891-8f88-1afc957ae15c",
        "colab": {
          "base_uri": "https://localhost:8080/",
          "height": 86
        }
      },
      "source": [
        "%%time \n",
        "df.info()"
      ],
      "execution_count": 20,
      "outputs": [
        {
          "output_type": "stream",
          "text": [
            "<class 'dask.dataframe.core.DataFrame'>\n",
            "Columns: 38 entries, UniqueKey to Location\n",
            "dtypes: object(38)CPU times: user 4.68 ms, sys: 0 ns, total: 4.68 ms\n",
            "Wall time: 7.33 ms\n"
          ],
          "name": "stdout"
        }
      ]
    },
    {
      "cell_type": "code",
      "metadata": {
        "id": "2vIyfAcP3aDJ",
        "colab_type": "code",
        "colab": {}
      },
      "source": [
        "%time df.isna().sum().compute()"
      ],
      "execution_count": 0,
      "outputs": []
    },
    {
      "cell_type": "code",
      "metadata": {
        "id": "OuCjOCfUWNE0",
        "colab_type": "code",
        "colab": {}
      },
      "source": [
        "# create a new dataframe with only 'RADIATOR' service calls\n",
        "%%time\n",
        "radiator_df = df[df.Descriptor == 'RADIATOR']"
      ],
      "execution_count": 0,
      "outputs": []
    },
    {
      "cell_type": "code",
      "metadata": {
        "id": "WRTWfKYfWS3y",
        "colab_type": "code",
        "outputId": "a7320701-4a23-4b04-a8c5-26c1a7b1b113",
        "colab": {
          "base_uri": "https://localhost:8080/",
          "height": 34
        }
      },
      "source": [
        "# Let’s see how many rows we have using the ‘count’ command\n",
        "radiator_df.Descriptor.count()\n",
        "\n",
        "%%time\n",
        "# To actually compute the count, you have to call “compute” to get dask to run through the dataframe and count the number of records.\n",
        "radiator_df.Descriptor.count().compute()"
      ],
      "execution_count": 0,
      "outputs": [
        {
          "output_type": "execute_result",
          "data": {
            "text/plain": [
              "69027"
            ]
          },
          "metadata": {
            "tags": []
          },
          "execution_count": 16
        }
      ]
    },
    {
      "cell_type": "code",
      "metadata": {
        "id": "iGPFHvMfc6Jr",
        "colab_type": "code",
        "colab": {
          "base_uri": "https://localhost:8080/",
          "height": 104
        },
        "outputId": "311e91d0-93ce-4b46-bb7a-01b64fe6d465"
      },
      "source": [
        "%whos"
      ],
      "execution_count": 22,
      "outputs": [
        {
          "output_type": "stream",
          "text": [
            "Variable   Type         Data/Info\n",
            "---------------------------------\n",
            "dd         module       <module 'dask.dataframe' <...>k/dataframe/__init__.py'>\n",
            "df         DataFrame    Dask DataFrame Structure:<...>k Name: rename, 532 tasks\n",
            "filename   str          311.csv\n"
          ],
          "name": "stdout"
        }
      ]
    }
  ]
}